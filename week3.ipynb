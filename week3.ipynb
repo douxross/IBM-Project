{
 "metadata": {
  "language_info": {
   "codemirror_mode": {
    "name": "ipython",
    "version": 3
   },
   "file_extension": ".py",
   "mimetype": "text/x-python",
   "name": "python",
   "nbconvert_exporter": "python",
   "pygments_lexer": "ipython3",
   "version": "3.8.6-final"
  },
  "orig_nbformat": 2,
  "kernelspec": {
   "name": "python3",
   "display_name": "Python 3"
  }
 },
 "nbformat": 4,
 "nbformat_minor": 2,
 "cells": [
  {
   "source": [
    "# Coursera IBM "
   ],
   "cell_type": "markdown",
   "metadata": {}
  },
  {
   "source": [
    "## Segmenting and Clustering Neighborhoods in Toronto\n"
   ],
   "cell_type": "markdown",
   "metadata": {}
  },
  {
   "cell_type": "code",
   "execution_count": 1,
   "metadata": {},
   "outputs": [],
   "source": [
    "# python version is 3.8.6, 64-bit\n",
    "import numpy as np\n",
    "import pandas as pd"
   ]
  },
  {
   "source": [
    "## Task 1\n",
    "> Copy data table from Wikipedia to the clickboard, then use this Pandas method to get a Data Frame.\n",
    "\n",
    "> The table from Wikipedia is small enough for just a clickboard, it takes 10 seconds to make Data Frame this way."
   ],
   "cell_type": "markdown",
   "metadata": {}
  },
  {
   "cell_type": "code",
   "execution_count": 26,
   "metadata": {},
   "outputs": [],
   "source": [
    "# just copy the table from Wikipedia into your clickboard and run this comand. No need for any scraping =)\n",
    "df_raw = pd.read_clipboard()"
   ]
  },
  {
   "cell_type": "code",
   "execution_count": 27,
   "metadata": {},
   "outputs": [
    {
     "output_type": "execute_result",
     "data": {
      "text/plain": [
       "  Postal Code       Borough                           Neighbourhood\n",
       "0         M1A  Not assigned                            Not assigned\n",
       "1         M1B   Scarborough                          Malvern, Rouge\n",
       "2         M1C   Scarborough  Rouge Hill, Port Union, Highland Creek\n",
       "3         M1E   Scarborough       Guildwood, Morningside, West Hill\n",
       "4         M1G   Scarborough                                  Woburn"
      ],
      "text/html": "<div>\n<style scoped>\n    .dataframe tbody tr th:only-of-type {\n        vertical-align: middle;\n    }\n\n    .dataframe tbody tr th {\n        vertical-align: top;\n    }\n\n    .dataframe thead th {\n        text-align: right;\n    }\n</style>\n<table border=\"1\" class=\"dataframe\">\n  <thead>\n    <tr style=\"text-align: right;\">\n      <th></th>\n      <th>Postal Code</th>\n      <th>Borough</th>\n      <th>Neighbourhood</th>\n    </tr>\n  </thead>\n  <tbody>\n    <tr>\n      <th>0</th>\n      <td>M1A</td>\n      <td>Not assigned</td>\n      <td>Not assigned</td>\n    </tr>\n    <tr>\n      <th>1</th>\n      <td>M1B</td>\n      <td>Scarborough</td>\n      <td>Malvern, Rouge</td>\n    </tr>\n    <tr>\n      <th>2</th>\n      <td>M1C</td>\n      <td>Scarborough</td>\n      <td>Rouge Hill, Port Union, Highland Creek</td>\n    </tr>\n    <tr>\n      <th>3</th>\n      <td>M1E</td>\n      <td>Scarborough</td>\n      <td>Guildwood, Morningside, West Hill</td>\n    </tr>\n    <tr>\n      <th>4</th>\n      <td>M1G</td>\n      <td>Scarborough</td>\n      <td>Woburn</td>\n    </tr>\n  </tbody>\n</table>\n</div>"
     },
     "metadata": {},
     "execution_count": 27
    }
   ],
   "source": [
    "df_raw.head()"
   ]
  },
  {
   "source": [
    "Exclude rows in column \"Borough\" == \"Not assigned\""
   ],
   "cell_type": "markdown",
   "metadata": {}
  },
  {
   "cell_type": "code",
   "execution_count": 42,
   "metadata": {},
   "outputs": [],
   "source": [
    "df_clean = df_raw[df_raw['Borough'] != 'Not assigned']"
   ]
  },
  {
   "cell_type": "code",
   "execution_count": 41,
   "metadata": {},
   "outputs": [
    {
     "output_type": "execute_result",
     "data": {
      "text/plain": [
       "(103, 3)"
      ]
     },
     "metadata": {},
     "execution_count": 41
    }
   ],
   "source": [
    "df_clean.shape"
   ]
  },
  {
   "source": [
    "## Task 2\n",
    "\n",
    "> I picked \"ArcGIS\" provider for GeoCoder module.\n",
    "https://geocoder.readthedocs.io/providers/ArcGIS.html\n",
    "\n",
    "> Here we iterate over all the postal codes and append received coordinates into dictionary.\n",
    "\n",
    "\n"
   ],
   "cell_type": "markdown",
   "metadata": {}
  },
  {
   "cell_type": "code",
   "execution_count": 93,
   "metadata": {},
   "outputs": [],
   "source": [
    "coordinates_dict = {}\n",
    "# get list of Postal Codes\n",
    "postal_codes = df_clean['Postal Code'].to_numpy()\n",
    "for code in postal_codes :\n",
    "    g = geocoder.arcgis(f'{code} Canada')\n",
    "    coordinates_dict[code] = (g.json['lat'], g.json['lng'])"
   ]
  },
  {
   "cell_type": "code",
   "execution_count": 142,
   "metadata": {},
   "outputs": [],
   "source": [
    "# turnd dictionary into Data Frame\n",
    "fd_coordinates = pd.DataFrame.from_dict(coordinates_dict, orient='index', dtype='float')"
   ]
  },
  {
   "cell_type": "code",
   "execution_count": 143,
   "metadata": {},
   "outputs": [],
   "source": [
    "# rename columns names\n",
    "fd_coordinates.rename(columns={0:'Latitude', 1:'Longitude'}, inplace=True)"
   ]
  },
  {
   "cell_type": "code",
   "execution_count": 155,
   "metadata": {},
   "outputs": [],
   "source": [
    "# unify index in both \"df\" for murging\n",
    "d1 = df_clean.reset_index().drop(columns='index')\n",
    "d2 = fd_coordinates.reset_index().drop(columns='index')\n",
    "df_full = pd.concat([d1, d2], axis=1)"
   ]
  },
  {
   "cell_type": "code",
   "execution_count": 156,
   "metadata": {},
   "outputs": [
    {
     "output_type": "execute_result",
     "data": {
      "text/plain": [
       "  Postal Code      Borough                           Neighbourhood  Latitude  \\\n",
       "0         M1B  Scarborough                          Malvern, Rouge  43.81139   \n",
       "1         M1C  Scarborough  Rouge Hill, Port Union, Highland Creek  43.78574   \n",
       "2         M1E  Scarborough       Guildwood, Morningside, West Hill  43.76575   \n",
       "3         M1G  Scarborough                                  Woburn  43.76812   \n",
       "4         M1H  Scarborough                               Cedarbrae  43.76944   \n",
       "\n",
       "   Longitude  \n",
       "0  -79.19662  \n",
       "1  -79.15875  \n",
       "2  -79.17470  \n",
       "3  -79.21761  \n",
       "4  -79.23892  "
      ],
      "text/html": "<div>\n<style scoped>\n    .dataframe tbody tr th:only-of-type {\n        vertical-align: middle;\n    }\n\n    .dataframe tbody tr th {\n        vertical-align: top;\n    }\n\n    .dataframe thead th {\n        text-align: right;\n    }\n</style>\n<table border=\"1\" class=\"dataframe\">\n  <thead>\n    <tr style=\"text-align: right;\">\n      <th></th>\n      <th>Postal Code</th>\n      <th>Borough</th>\n      <th>Neighbourhood</th>\n      <th>Latitude</th>\n      <th>Longitude</th>\n    </tr>\n  </thead>\n  <tbody>\n    <tr>\n      <th>0</th>\n      <td>M1B</td>\n      <td>Scarborough</td>\n      <td>Malvern, Rouge</td>\n      <td>43.81139</td>\n      <td>-79.19662</td>\n    </tr>\n    <tr>\n      <th>1</th>\n      <td>M1C</td>\n      <td>Scarborough</td>\n      <td>Rouge Hill, Port Union, Highland Creek</td>\n      <td>43.78574</td>\n      <td>-79.15875</td>\n    </tr>\n    <tr>\n      <th>2</th>\n      <td>M1E</td>\n      <td>Scarborough</td>\n      <td>Guildwood, Morningside, West Hill</td>\n      <td>43.76575</td>\n      <td>-79.17470</td>\n    </tr>\n    <tr>\n      <th>3</th>\n      <td>M1G</td>\n      <td>Scarborough</td>\n      <td>Woburn</td>\n      <td>43.76812</td>\n      <td>-79.21761</td>\n    </tr>\n    <tr>\n      <th>4</th>\n      <td>M1H</td>\n      <td>Scarborough</td>\n      <td>Cedarbrae</td>\n      <td>43.76944</td>\n      <td>-79.23892</td>\n    </tr>\n  </tbody>\n</table>\n</div>"
     },
     "metadata": {},
     "execution_count": 156
    }
   ],
   "source": [
    "df_full.head()"
   ]
  },
  {
   "source": [
    "## Task 3"
   ],
   "cell_type": "markdown",
   "metadata": {}
  },
  {
   "cell_type": "code",
   "execution_count": 168,
   "metadata": {},
   "outputs": [],
   "source": [
    "import folium\n",
    "import requests\n",
    "from pandas.io.json import json_normalize"
   ]
  },
  {
   "cell_type": "code",
   "execution_count": 218,
   "metadata": {},
   "outputs": [
    {
     "output_type": "execute_result",
     "data": {
      "text/plain": [
       "'Toronto is located at 43.648690000000045, -79.38543999999996'"
      ]
     },
     "metadata": {},
     "execution_count": 218
    }
   ],
   "source": [
    "# coordinates of Toronto to position the Folium Map\n",
    "g = geocoder.arcgis('Toronto Canada')\n",
    "toronto_lat = g.json['lat']\n",
    "toronto_lng = g.json['lng']\n",
    "f'Toronto is located at {toronto_lat}, {toronto_lng}'"
   ]
  },
  {
   "source": [
    "> Folium takes all the neighbourhoods coordinates and map them on Toronto map."
   ],
   "cell_type": "markdown",
   "metadata": {}
  },
  {
   "cell_type": "code",
   "execution_count": 202,
   "metadata": {},
   "outputs": [],
   "source": [
    "# create folium map positioning at Toronto\n",
    "toronto_map = folium.Map(location=[toronto_lat, toronto_lng], zoom_start=10)"
   ]
  },
  {
   "cell_type": "code",
   "execution_count": 217,
   "metadata": {},
   "outputs": [],
   "source": [
    "# adding all the neighbourhoods on the map\n",
    "for lat, lng, label in zip(df_full['Latitude'], df_full['Longitude'], df_full['Neighbourhood']):\n",
    "    folium.CircleMarker(\n",
    "        [lat, lng],\n",
    "        radius=5,\n",
    "        popup=label,\n",
    "        fill=True,\n",
    "        color='blue',\n",
    "        fill_color='blue',\n",
    "        fill_opacity=0.6\n",
    "        ).add_to(toronto_map)"
   ]
  },
  {
   "source": [
    "> Apperantly GitHub doesn't load folium map, here is an picture of map\n",
    "\n",
    "![Image of Yaktocat](https://jo5u7g.by.files.1drv.com/y4mWVym4oBRWElWVWGHk3IWYJmAYl7BxdGA61FlydQ9UJkhedMrvjKiEIUxk-BqMwbmdCFstcZkh08PCLOeB-Md5wXcYI9HXLRNW4HXl37ETAFMNpOxmQuCBp68Tc3zRavLrhpdGwHzxQlM9sR8eER1qLyuqGOjkIDcUQvUViMvkgqzG5O48c6jSigXGh2DI7ZtkjJbmjXMEQYL2Elxu4T-mw/map.PNG?psid=1)"
   ],
   "cell_type": "markdown",
   "metadata": {}
  }
 ]
}